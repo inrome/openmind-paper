{
 "cells": [
  {
   "attachments": {},
   "cell_type": "markdown",
   "metadata": {},
   "source": [
    "# Data validation and descriptives"
   ]
  },
  {
   "cell_type": "code",
   "execution_count": 1,
   "metadata": {},
   "outputs": [],
   "source": [
    "# Description: Data validation and descriptive statistics for `/data` and `/outputs` data\n",
    "\n",
    "import pickle\n",
    "import pandas as pd\n",
    "import numpy as np\n",
    "import os\n",
    "\n",
    "# Load preprocessed data\n",
    "current_dir = os.getcwd()\n",
    "data_path = os.path.join(current_dir, '../data/imported_clean_data.pickle')\n",
    "\n",
    "with open(data_path, 'rb') as f:\n",
    "    participants, trials_learning, trials_prediction, trials_control, trials_explanation = pickle.load(f)\n",
    "\n",
    "# Load output data\n",
    "predicted_accuracy_path = os.path.join(current_dir, '../outputs/predicted_accuracy.csv')\n",
    "predicted_accuracy = pd.read_csv(predicted_accuracy_path)\n",
    "\n",
    "trials_with_Ri_path = os.path.join(current_dir, '../outputs/all_trials_with_Ri.csv')\n",
    "trials_with_Ri = pd.read_csv(trials_with_Ri_path)"
   ]
  },
  {
   "cell_type": "code",
   "execution_count": 2,
   "metadata": {},
   "outputs": [
    {
     "name": "stdout",
     "output_type": "stream",
     "text": [
      "363\n"
     ]
    }
   ],
   "source": [
    "# Check that the number of participants is the same in all dataframes\n",
    "n_participants = participants.shape[0]\n",
    "n_participants_learning = trials_learning['participant_id'].nunique()\n",
    "n_participants_prediction = trials_prediction['participant_id'].nunique()\n",
    "n_participants_control = trials_control['participant_id'].nunique()\n",
    "n_participants_explanation = trials_explanation['participant_id'].nunique()\n",
    "n_participants_predicted_accuracy = predicted_accuracy['participant_id'].nunique()\n",
    "n_participants_trial_with_Ri = trials_with_Ri['participant_id'].nunique()\n",
    "\n",
    "assert n_participants == n_participants_learning == \\\n",
    "    sum([n_participants_prediction, n_participants_control, n_participants_explanation]) == \\\n",
    "        n_participants_predicted_accuracy == n_participants_trial_with_Ri\n",
    "print(n_participants)"
   ]
  },
  {
   "cell_type": "code",
   "execution_count": 3,
   "metadata": {},
   "outputs": [
    {
     "data": {
      "text/plain": [
       "Experiment 2 (test preview)    266\n",
       "Experiment 1 (no preview)       97\n",
       "Name: learning_condition, dtype: int64"
      ]
     },
     "execution_count": 3,
     "metadata": {},
     "output_type": "execute_result"
    }
   ],
   "source": [
    "# Number of participants groupped by subject_sex and learning_condition\n",
    "n_participants_exps = participants['learning_condition'].value_counts()\n",
    "n_participants_exps"
   ]
  },
  {
   "cell_type": "code",
   "execution_count": 23,
   "metadata": {},
   "outputs": [
    {
     "data": {
      "text/html": [
       "<div>\n",
       "<style scoped>\n",
       "    .dataframe tbody tr th:only-of-type {\n",
       "        vertical-align: middle;\n",
       "    }\n",
       "\n",
       "    .dataframe tbody tr th {\n",
       "        vertical-align: top;\n",
       "    }\n",
       "\n",
       "    .dataframe thead th {\n",
       "        text-align: right;\n",
       "    }\n",
       "</style>\n",
       "<table border=\"1\" class=\"dataframe\">\n",
       "  <thead>\n",
       "    <tr style=\"text-align: right;\">\n",
       "      <th></th>\n",
       "      <th>min</th>\n",
       "      <th>max</th>\n",
       "      <th>mean</th>\n",
       "      <th>std</th>\n",
       "    </tr>\n",
       "    <tr>\n",
       "      <th>learning_condition</th>\n",
       "      <th></th>\n",
       "      <th></th>\n",
       "      <th></th>\n",
       "      <th></th>\n",
       "    </tr>\n",
       "  </thead>\n",
       "  <tbody>\n",
       "    <tr>\n",
       "      <th>Experiment 1 (no preview)</th>\n",
       "      <td>18.0</td>\n",
       "      <td>47.0</td>\n",
       "      <td>27.343750</td>\n",
       "      <td>6.73065</td>\n",
       "    </tr>\n",
       "    <tr>\n",
       "      <th>Experiment 2 (test preview)</th>\n",
       "      <td>18.0</td>\n",
       "      <td>47.0</td>\n",
       "      <td>28.543396</td>\n",
       "      <td>7.34428</td>\n",
       "    </tr>\n",
       "  </tbody>\n",
       "</table>\n",
       "</div>"
      ],
      "text/plain": [
       "                              min   max       mean      std\n",
       "learning_condition                                         \n",
       "Experiment 1 (no preview)    18.0  47.0  27.343750  6.73065\n",
       "Experiment 2 (test preview)  18.0  47.0  28.543396  7.34428"
      ]
     },
     "execution_count": 23,
     "metadata": {},
     "output_type": "execute_result"
    }
   ],
   "source": [
    "# age range, mean and std for each learning condition\n",
    "participants.groupby('learning_condition')['subject_age'].agg(['min', 'max', 'mean', 'std'])"
   ]
  },
  {
   "attachments": {},
   "cell_type": "markdown",
   "metadata": {},
   "source": [
    "## Check `predicted_accuracy.csv`"
   ]
  },
  {
   "cell_type": "code",
   "execution_count": 10,
   "metadata": {},
   "outputs": [
    {
     "name": "stdout",
     "output_type": "stream",
     "text": [
      "tasks:  ['control' 'prediction' 'explanation']\n",
      "conditions:  ['visible' 'hidden' 'hidden_an' 'hidden_normative_subset'\n",
      " 'hidden_an_subset']\n",
      "fsm types:  ['hard' 'easy']\n",
      "learning conditions:  ['Experiment 1 (no preview)' 'Experiment 2 (test preview)']\n"
     ]
    }
   ],
   "source": [
    "# Get unique values for `task`, `condition`, `fsm_type`, `learning_condition`\n",
    "task_values = predicted_accuracy['task'].unique()\n",
    "condition_values = predicted_accuracy['condition'].unique()\n",
    "fsm_type_values = predicted_accuracy['fsm_type'].unique()\n",
    "learning_condition_values = predicted_accuracy['learning_condition'].unique()\n",
    "\n",
    "print('tasks: ', task_values)\n",
    "print('conditions: ', condition_values)\n",
    "print('fsm types: ', fsm_type_values)\n",
    "print('learning conditions: ', learning_condition_values)"
   ]
  },
  {
   "cell_type": "code",
   "execution_count": 11,
   "metadata": {},
   "outputs": [],
   "source": [
    "# Check numeric values (predicted_accuracy, mm_accuracy, count_nan) groupped by task, condition, fsm_type, and learning_condition and save to pandas dataframe\n",
    "descriptives = pd.DataFrame()\n",
    "\n",
    "for task in task_values:\n",
    "    for condition in condition_values:\n",
    "        for fsm_type in fsm_type_values:\n",
    "            for learning_condition in learning_condition_values:\n",
    "                df = predicted_accuracy[\n",
    "                    (predicted_accuracy['task'] == task) &\n",
    "                    (predicted_accuracy['condition'] == condition) &\n",
    "                    (predicted_accuracy['fsm_type'] == fsm_type) &\n",
    "                    (predicted_accuracy['learning_condition'] == learning_condition)\n",
    "                ]\n",
    "                tmp = pd.DataFrame({\n",
    "                    'task': task,\n",
    "                    'condition': condition,\n",
    "                    'fsm_type': fsm_type,\n",
    "                    'learning_condition': learning_condition,\n",
    "                    'predicted_accuracy_mean': df['predicted_accuracy'].mean(skipna=True),\n",
    "                    'predicted_accuracy_std': df['predicted_accuracy'].std(skipna=True),\n",
    "                    'predicted_accuracy_min': df['predicted_accuracy'].min(skipna=True),\n",
    "                    'predicted_accuracy_max': df['predicted_accuracy'].max(skipna=True),\n",
    "                    'predicted_accuracy_nan': df['predicted_accuracy'].isna().sum(),\n",
    "                    'mm_accuracy_mean': df['mm_accuracy'].mean(skipna=True),\n",
    "                    'mm_accuracy_std': df['mm_accuracy'].std(skipna=True),\n",
    "                    'mm_accuracy_min': df['mm_accuracy'].min(skipna=True),\n",
    "                    'mm_accuracy_max': df['mm_accuracy'].max(skipna=True),\n",
    "                    'mm_accuracy_nan': df['mm_accuracy'].isna().sum(),\n",
    "                    'count_nan_mean': df['count_nan'].mean(skipna=True),\n",
    "                    'count_nan_std': df['count_nan'].std(skipna=True), \n",
    "                    'count_nan_min': df['count_nan'].min(skipna=True),\n",
    "                    'count_nan_max': df['count_nan'].max(skipna=True)\n",
    "                }, index=[0])\n",
    "                descriptives = pd.concat([descriptives, tmp])"
   ]
  },
  {
   "cell_type": "code",
   "execution_count": 4,
   "metadata": {},
   "outputs": [
    {
     "data": {
      "text/plain": [
       "learning_condition           q_estimate\n",
       "Experiment 1 (no preview)    10.0           55\n",
       "                             13.0           19\n",
       "                             16.0           11\n",
       "                             19.0            2\n",
       "Experiment 2 (test preview)  10.0          134\n",
       "                             13.0           83\n",
       "                             16.0           26\n",
       "                             19.0           11\n",
       "Name: q_estimate, dtype: int64"
      ]
     },
     "execution_count": 4,
     "metadata": {},
     "output_type": "execute_result"
    }
   ],
   "source": [
    "participants.groupby('learning_condition')['q_estimate'].value_counts()"
   ]
  },
  {
   "cell_type": "code",
   "execution_count": null,
   "metadata": {},
   "outputs": [],
   "source": []
  }
 ],
 "metadata": {
  "kernelspec": {
   "display_name": ".venv",
   "language": "python",
   "name": "python3"
  },
  "language_info": {
   "codemirror_mode": {
    "name": "ipython",
    "version": 3
   },
   "file_extension": ".py",
   "mimetype": "text/x-python",
   "name": "python",
   "nbconvert_exporter": "python",
   "pygments_lexer": "ipython3",
   "version": "3.11.2"
  },
  "orig_nbformat": 4
 },
 "nbformat": 4,
 "nbformat_minor": 2
}
